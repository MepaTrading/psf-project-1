{
 "cells": [
  {
   "cell_type": "markdown",
   "metadata": {},
   "source": [
    "<ul>\n",
    "    <li> <h2><b>Universidade de Brasília - UnB</b></h2> </li>\n",
    "    <li> <b>Campus UnB Gama</b> </li>\n",
    "    <li> <b>Disciplina: Processamento Digital de Sinais Financeiros</b> </li>\n",
    "    <a href=\"https://www.linkedin.com/in/marcelino-andrade-b164b369/\">\n",
    "    <li> <b>Prof. Marcelino Monteiro de Andrade Dr.</b> </li>\n",
    "</ul>\n",
    "\n",
    "\n",
    "    Primeira (1/5) Atividade Prática Avaliativa\n",
    "    Entrega da Atividade 01/10/2019 \n",
    "    \"A não entrega na data esperada reduz em 50% na nota da avaliação\""
   ]
  },
  {
   "cell_type": "markdown",
   "metadata": {},
   "source": [
    "\n",
    "<div id=\"Tópicos\">\n",
    "    <h2>Questões</h2>\n",
    "</div>\n",
    "\n",
    "\n",
    "<div class=\"alert alert-block alert-info\" style=\"margin-top: 20px\">\n",
    "    <ol> \n",
    "        <li><a href=\"#Tópico 0\">Questão 1</a></li>\n",
    "        <li><a href=\"#Tópico 1\">Questão 2</a></li>\n",
    "        <li><a href=\"#Tópico 2\">Questão 3</a></li>\n",
    "        <li><a href=\"#Tópico 3\">Questão 4</a></li>\n",
    "\n",
    "</ol>\n",
    "</div>\n"
   ]
  },
  {
   "cell_type": "markdown",
   "metadata": {
    "collapsed": true
   },
   "source": [
    "<div id=\"Tópico 0\">\n",
    "    <div class=\"alert alert-block alert-info\" style=\"margin-top: 0px\">\n",
    "        <h><a href=\"#Tópicos\"><h>1) Questão 1: Considerando os índices do grupo Setorial ou por Segmento, escolha 5 (cinco) índices e colete os preços diários (OHLC), assim como os volumes, dos 3 (três) papéis mais negociados (líquidos) em cada um dos 5 índices durante um período de 24 meses.\n",
    "</h></a></h>   \n",
    "</div> </div> \n",
    "http://www.bmfbovespa.com.br/pt_br/produtos/indices/"
   ]
  },
  {
   "cell_type": "code",
   "execution_count": 1,
   "metadata": {
    "collapsed": true
   },
   "outputs": [],
   "source": [
    "a=1"
   ]
  },
  {
   "cell_type": "markdown",
   "metadata": {
    "collapsed": true
   },
   "source": [
    "<div id=\"Tópico 1\">\n",
    "    <div class=\"alert alert-block alert-info\" style=\"margin-top: 0px\">\n",
    "        <h><a href=\"#Tópicos\"><h>1) Questão 2: Identifique a correlação entre os preços e os retornos dos 15 (quinze) ativos coletados na questão anterior. Em seguida, identifique os cinco papeis com menor correlação e retorno médio positivo no período de 24 meses.</h></a></h>   \n",
    "</div> </div> "
   ]
  },
  {
   "cell_type": "code",
   "execution_count": 2,
   "metadata": {
    "collapsed": true
   },
   "outputs": [],
   "source": [
    "a=1"
   ]
  },
  {
   "cell_type": "markdown",
   "metadata": {
    "collapsed": true
   },
   "source": [
    "<div id=\"Tópico 2\">\n",
    "    <div class=\"alert alert-block alert-info\" style=\"margin-top: 0px\">\n",
    "        <h><a href=\"#Tópicos\"><h>1) Questão 3: Com relação aos 5 (cinco) papéis da questão 2, apresente: (i) os gráficos de preço no formato candlestick, (ii) os gráficos de retorno mês, (iii) o índice Sharpe e o (iv) fator Beta com relação ao índice Bovespa.</h></a></h>   \n",
    "</div> </div> "
   ]
  },
  {
   "cell_type": "code",
   "execution_count": 3,
   "metadata": {
    "collapsed": true
   },
   "outputs": [],
   "source": [
    "a=1"
   ]
  },
  {
   "cell_type": "markdown",
   "metadata": {
    "collapsed": true
   },
   "source": [
    "<div id=\"Tópico 3\">\n",
    "    <div class=\"alert alert-block alert-info\" style=\"margin-top: 0px\">\n",
    "        <h><a href=\"#Tópicos\"><h>1) Questão 4: Considerando os 5 (cinco) papeis escolhidos, na questão 2, aplique a Teoria do Portfólio Moderno de Markowitz. Nesse sentido, (i) Identifique o diagrama Risco x Retorno, (ii) a curva de eficiência, (iii) o portfólio de menor risco e o (iv) portfólio com maior índice Sharpe.</h></a></h>   \n",
    "</div> </div> "
   ]
  },
  {
   "cell_type": "code",
   "execution_count": 4,
   "metadata": {
    "collapsed": true
   },
   "outputs": [],
   "source": [
    "a=1"
   ]
  }
 ],
 "metadata": {
  "kernelspec": {
   "display_name": "Python 3",
   "language": "python",
   "name": "python3"
  },
  "language_info": {
   "codemirror_mode": {
    "name": "ipython",
    "version": 3
   },
   "file_extension": ".py",
   "mimetype": "text/x-python",
   "name": "python",
   "nbconvert_exporter": "python",
   "pygments_lexer": "ipython3",
   "version": "3.6.8"
  }
 },
 "nbformat": 4,
 "nbformat_minor": 2
}
